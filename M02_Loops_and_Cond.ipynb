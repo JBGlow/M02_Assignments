{
 "cells": [
  {
   "cell_type": "code",
   "execution_count": 9,
   "id": "5ee9ed3a",
   "metadata": {},
   "outputs": [
    {
     "name": "stdout",
     "output_type": "stream",
     "text": [
      "Too high!\n"
     ]
    }
   ],
   "source": [
    "# Exercise 4.1\n",
    "secret = 3\n",
    "guess = 10\n",
    "\n",
    "if guess < secret:\n",
    "    print (\"Too low!\")\n",
    "elif guess > secret:\n",
    "    print (\"Too high!\")\n",
    "elif guess == secret:\n",
    "    print (\"Just right!\")"
   ]
  },
  {
   "cell_type": "code",
   "execution_count": 15,
   "id": "de23df2c",
   "metadata": {},
   "outputs": [
    {
     "name": "stdout",
     "output_type": "stream",
     "text": [
      "Cherry\n"
     ]
    }
   ],
   "source": [
    "# Exercise 4.2\n",
    "small = True\n",
    "green = False\n",
    "\n",
    "if small and green:\n",
    "    print (\"Pea\")\n",
    "elif small and not green:\n",
    "    print (\"Cherry\")\n",
    "elif not small and green:\n",
    "    print (\"Watermelon\")\n",
    "elif not small and not green:\n",
    "    print (\"Pumpkin\")"
   ]
  },
  {
   "cell_type": "code",
   "execution_count": 22,
   "id": "e800da19",
   "metadata": {},
   "outputs": [
    {
     "name": "stdout",
     "output_type": "stream",
     "text": [
      "3\n",
      "2\n",
      "1\n",
      "0\n"
     ]
    }
   ],
   "source": [
    "# Exercise 6.1\n",
    "my_list = [3,2,1,0]\n",
    "\n",
    "for n in my_list:\n",
    "    print(n)"
   ]
  },
  {
   "cell_type": "code",
   "execution_count": 33,
   "id": "94b1dfa0",
   "metadata": {},
   "outputs": [
    {
     "name": "stdout",
     "output_type": "stream",
     "text": [
      "Too low!\n",
      "Too low!\n",
      "Too low!\n",
      "Too low!\n",
      "Too low!\n",
      "Too low!\n",
      "Found it!\n"
     ]
    }
   ],
   "source": [
    "# Exercise 6.2\n",
    "guess_me = 7\n",
    "number = 1\n",
    "\n",
    "while number <= guess_me:\n",
    "    if number < guess_me:\n",
    "        print(\"Too low!\")\n",
    "    if number == guess_me:\n",
    "        print (\"Found it!\")\n",
    "        break\n",
    "    if number > guess_me:\n",
    "        print(\"Oops!\")\n",
    "        break\n",
    "        \n",
    "    number += 1"
   ]
  },
  {
   "cell_type": "code",
   "execution_count": 37,
   "id": "70bdf1a1",
   "metadata": {},
   "outputs": [
    {
     "name": "stdout",
     "output_type": "stream",
     "text": [
      "Too low!\n",
      "Too low!\n",
      "Too low!\n",
      "Too low!\n",
      "Too low!\n",
      "Found it!\n"
     ]
    }
   ],
   "source": [
    "# Exercise 6.3\n",
    "guess_me = 5\n",
    "\n",
    "for number in range(10):\n",
    "    if number < guess_me:\n",
    "        print(\"Too low!\")\n",
    "    if number == guess_me:\n",
    "        print(\"Found it!\")\n",
    "        break\n",
    "    if number > guess_me:\n",
    "        print(\"Oops!\")\n",
    "        break"
   ]
  },
  {
   "cell_type": "code",
   "execution_count": null,
   "id": "f7450c6d",
   "metadata": {},
   "outputs": [],
   "source": []
  }
 ],
 "metadata": {
  "kernelspec": {
   "display_name": "Python 3 (ipykernel)",
   "language": "python",
   "name": "python3"
  },
  "language_info": {
   "codemirror_mode": {
    "name": "ipython",
    "version": 3
   },
   "file_extension": ".py",
   "mimetype": "text/x-python",
   "name": "python",
   "nbconvert_exporter": "python",
   "pygments_lexer": "ipython3",
   "version": "3.11.5"
  }
 },
 "nbformat": 4,
 "nbformat_minor": 5
}
